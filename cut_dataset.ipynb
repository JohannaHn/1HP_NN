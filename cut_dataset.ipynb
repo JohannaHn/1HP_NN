{
    "cells": [
        {
            "cell_type": "code",
            "execution_count": 1,
            "metadata": {},
            "outputs": [],
            "source": [
                "from copy import deepcopy\n",
                "import yaml\n",
                "from pathlib import Path\n",
                "import torch\n",
                "import numpy as np\n",
                "import shutil\n",
                "import matplotlib.pyplot as plt\n",
                "from postprocessing.visualization import _aligned_colorbar\n",
                "\n",
                "from extend_plumes import cut_dataset_in_pieces, prepare_dataset_for_2levels, pipeline\n",
                "from main import run, save_inference\n",
                "from data_stuff.utils import SettingsTraining\n",
                "from preprocessing.prepare import prepare_data_and_paths\n",
                "\n",
                "\n",
                "%reload_ext autoreload\n",
                "%autoreload 2"
            ]
        },
        {
            "cell_type": "markdown",
            "metadata": {},
            "source": [
                "# Application to small dataset"
            ]
        },
        {
            "cell_type": "code",
            "execution_count": null,
            "metadata": {},
            "outputs": [],
            "source": [
                "dataset_prep = \"dataset_2d_small_100dp inputs_gksi\"\n",
                "number_boxes = 4\n",
                "inputs_prop = \"t\"\n",
                "with open(\"paths.yaml\", \"r\") as paths:\n",
                "\tpaths = yaml.safe_load(paths)\n",
                "\tprepared1_dir = Path(paths[\"datasets_prepared_dir\"]) / dataset_prep\n",
                "\tprepared_pieces_dir = Path(paths[\"datasets_prepared_dir\"]) / f\"{dataset_prep} cut_{number_boxes}pieces separate_boxes\"\n",
                "\tprepared_pieces_dir.mkdir(parents=True, exist_ok=True)\n",
                "cut_dataset_in_pieces(number_boxes, prepared1_dir, prepared_pieces_dir)\n",
                "prepare_dataset_for_2levels(dataset_prep, number_boxes, \"t\", paths, prepared1_dir, prepared_pieces_dir)"
            ]
        },
        {
            "cell_type": "markdown",
            "metadata": {},
            "source": [
                "## TODO in between: run 2 models on prior prepared datasets"
            ]
        },
        {
            "cell_type": "markdown",
            "metadata": {},
            "source": [
                "# Pipeline to test the predictions of the models of both levels"
            ]
        },
        {
            "cell_type": "code",
            "execution_count": null,
            "metadata": {},
            "outputs": [],
            "source": [
                "# dataset_prep = \"dataset_2d_small_100dp inputs_gksi invert cut_4pieces separate_boxes\"\n",
                "# model = \"dataset_100dp_invert inputs_t case_train\"\n",
                "dataset_prep = \"dataset_2d_small_100dp inputs_gksi cut_4pieces separate_boxes\"\n",
                "model = \"model cut_4pieces separate_boxes 2nd level t without_last_box\"\n",
                "for id in range(10):\n",
                "    pipeline(id, dataset_prep, \"t\", nr_boxes_orig=4, model=model)"
            ]
        },
        {
            "cell_type": "markdown",
            "metadata": {},
            "source": [
                "# Cut and test medium domain"
            ]
        },
        {
            "cell_type": "code",
            "execution_count": 5,
            "metadata": {},
            "outputs": [
                {
                    "name": "stdout",
                    "output_type": "stream",
                    "text": [
                        "/home/pelzerja/pelzerja/test_nn/datasets_prepared/1hp_boxes/dataset_medium_k_3e-10_1000dp inputs_gksi\n"
                    ]
                },
                {
                    "data": {
                        "application/json": {
                            "ascii": false,
                            "bar_format": null,
                            "colour": null,
                            "elapsed": 0.014203310012817383,
                            "initial": 0,
                            "n": 0,
                            "ncols": null,
                            "nrows": null,
                            "postfix": null,
                            "prefix": "Converting",
                            "rate": null,
                            "total": 998,
                            "unit": "it",
                            "unit_divisor": 1000,
                            "unit_scale": false
                        },
                        "application/vnd.jupyter.widget-view+json": {
                            "model_id": "fe999eccf0f7469ba43e4078f60f6f4f",
                            "version_major": 2,
                            "version_minor": 0
                        },
                        "text/plain": [
                            "Converting:   0%|          | 0/998 [00:00<?, ?it/s]"
                        ]
                    },
                    "metadata": {},
                    "output_type": "display_data"
                },
                {
                    "data": {
                        "application/json": {
                            "ascii": false,
                            "bar_format": null,
                            "colour": null,
                            "elapsed": 0.013994455337524414,
                            "initial": 0,
                            "n": 0,
                            "ncols": null,
                            "nrows": null,
                            "postfix": null,
                            "prefix": "Normalizing inputs",
                            "rate": null,
                            "total": 998,
                            "unit": "it",
                            "unit_divisor": 1000,
                            "unit_scale": false
                        },
                        "application/vnd.jupyter.widget-view+json": {
                            "model_id": "e13fa215168d405fadefd63745a731a8",
                            "version_major": 2,
                            "version_minor": 0
                        },
                        "text/plain": [
                            "Normalizing inputs:   0%|          | 0/998 [00:00<?, ?it/s]"
                        ]
                    },
                    "metadata": {},
                    "output_type": "display_data"
                },
                {
                    "data": {
                        "application/json": {
                            "ascii": false,
                            "bar_format": null,
                            "colour": null,
                            "elapsed": 0.011141061782836914,
                            "initial": 0,
                            "n": 0,
                            "ncols": null,
                            "nrows": null,
                            "postfix": null,
                            "prefix": "Normalizing labels",
                            "rate": null,
                            "total": 998,
                            "unit": "it",
                            "unit_divisor": 1000,
                            "unit_scale": false
                        },
                        "application/vnd.jupyter.widget-view+json": {
                            "model_id": "d2a2b664e3b94392ad45b0631ad57fa8",
                            "version_major": 2,
                            "version_minor": 0
                        },
                        "text/plain": [
                            "Normalizing labels:   0%|          | 0/998 [00:00<?, ?it/s]"
                        ]
                    },
                    "metadata": {},
                    "output_type": "display_data"
                },
                {
                    "name": "stdout",
                    "output_type": "stream",
                    "text": [
                        "Dataset prepared (/home/pelzerja/pelzerja/test_nn/datasets_prepared/1hp_boxes/dataset_medium_k_3e-10_1000dp inputs_gksi)\n"
                    ]
                }
            ],
            "source": [
                "# prepare dataset\n",
                "dataset_prep = \"dataset_medium_k_3e-10_1000dp\"\n",
                "inputs = \"gksi\"\n",
                "\n",
                "args = {}\n",
                "args[\"dataset_raw\"] = dataset_prep\n",
                "args[\"dataset_prep\"] = \"\"\n",
                "args[\"device\"] = \"cuda:3\"\n",
                "args[\"epochs\"] = 1\n",
                "args[\"case\"] = \"finetune\"\n",
                "args[\"model\"] = \"model cut_4pieces separate_boxes 1st level\"\n",
                "args[\"destination\"] = \"\"\n",
                "args[\"inputs\"] = inputs\n",
                "args[\"case_2hp\"] = False\n",
                "args[\"visualize\"] = False\n",
                "args[\"save_inference\"] = False\n",
                "settings = SettingsTraining(**args)\n",
                "\n",
                "settings = prepare_data_and_paths(settings)"
            ]
        },
        {
            "cell_type": "code",
            "execution_count": 6,
            "metadata": {},
            "outputs": [
                {
                    "ename": "FileNotFoundError",
                    "evalue": "[Errno 2] No such file or directory: '/home/pelzerja/pelzerja/test_nn/datasets_prepared/1hp_boxes/dataset_medium_k_3e-10_1000dp inputs gksi/info.yaml'",
                    "output_type": "error",
                    "traceback": [
                        "\u001b[0;31m---------------------------------------------------------------------------\u001b[0m",
                        "\u001b[0;31mFileNotFoundError\u001b[0m                         Traceback (most recent call last)",
                        "\u001b[1;32m/home/pelzerja/pelzerja/test_nn/1HP_NN/cut_dataset.ipynb Cell 9\u001b[0m line \u001b[0;36m8\n\u001b[1;32m      <a href='vscode-notebook-cell://ssh-remote%2Bipvsgpu1/home/pelzerja/pelzerja/test_nn/1HP_NN/cut_dataset.ipynb#X10sdnNjb2RlLXJlbW90ZQ%3D%3D?line=5'>6</a>\u001b[0m \tprepared_pieces_dir \u001b[39m=\u001b[39m Path(paths[\u001b[39m\"\u001b[39m\u001b[39mdatasets_prepared_dir\u001b[39m\u001b[39m\"\u001b[39m]) \u001b[39m/\u001b[39m \u001b[39mf\u001b[39m\u001b[39m\"\u001b[39m\u001b[39m{\u001b[39;00mdataset_prep\u001b[39m}\u001b[39;00m\u001b[39m cut_\u001b[39m\u001b[39m{\u001b[39;00mnumber_boxes\u001b[39m}\u001b[39;00m\u001b[39mpieces separate_boxes\u001b[39m\u001b[39m\"\u001b[39m\n\u001b[1;32m      <a href='vscode-notebook-cell://ssh-remote%2Bipvsgpu1/home/pelzerja/pelzerja/test_nn/1HP_NN/cut_dataset.ipynb#X10sdnNjb2RlLXJlbW90ZQ%3D%3D?line=6'>7</a>\u001b[0m \tprepared_pieces_dir\u001b[39m.\u001b[39mmkdir(parents\u001b[39m=\u001b[39m\u001b[39mTrue\u001b[39;00m, exist_ok\u001b[39m=\u001b[39m\u001b[39mTrue\u001b[39;00m)\n\u001b[0;32m----> <a href='vscode-notebook-cell://ssh-remote%2Bipvsgpu1/home/pelzerja/pelzerja/test_nn/1HP_NN/cut_dataset.ipynb#X10sdnNjb2RlLXJlbW90ZQ%3D%3D?line=7'>8</a>\u001b[0m cut_dataset_in_pieces(number_boxes, prepared1_dir, prepared_pieces_dir)\n",
                        "File \u001b[0;32m~/pelzerja/test_nn/1HP_NN/extend_plumes.py:19\u001b[0m, in \u001b[0;36mcut_dataset_in_pieces\u001b[0;34m(number_boxes, prepared1_dir, prepared_pieces_dir)\u001b[0m\n\u001b[1;32m     17\u001b[0m     (prepared_pieces_dir \u001b[39m/\u001b[39m \u001b[39mf\u001b[39m\u001b[39m\"\u001b[39m\u001b[39mInputs Box \u001b[39m\u001b[39m{\u001b[39;00mbox_id\u001b[39m}\u001b[39;00m\u001b[39m\"\u001b[39m)\u001b[39m.\u001b[39mmkdir(parents\u001b[39m=\u001b[39m\u001b[39mTrue\u001b[39;00m, exist_ok\u001b[39m=\u001b[39m\u001b[39mTrue\u001b[39;00m)\n\u001b[1;32m     18\u001b[0m     (prepared_pieces_dir \u001b[39m/\u001b[39m \u001b[39mf\u001b[39m\u001b[39m\"\u001b[39m\u001b[39mLabel Box \u001b[39m\u001b[39m{\u001b[39;00mbox_id\u001b[39m}\u001b[39;00m\u001b[39m\"\u001b[39m)\u001b[39m.\u001b[39mmkdir(parents\u001b[39m=\u001b[39m\u001b[39mTrue\u001b[39;00m, exist_ok\u001b[39m=\u001b[39m\u001b[39mTrue\u001b[39;00m)\n\u001b[0;32m---> 19\u001b[0m shutil\u001b[39m.\u001b[39;49mcopy(prepared1_dir \u001b[39m/\u001b[39;49m \u001b[39m\"\u001b[39;49m\u001b[39minfo.yaml\u001b[39;49m\u001b[39m\"\u001b[39;49m, prepared_pieces_dir \u001b[39m/\u001b[39;49m \u001b[39m\"\u001b[39;49m\u001b[39minfo.yaml\u001b[39;49m\u001b[39m\"\u001b[39;49m)\n\u001b[1;32m     21\u001b[0m \u001b[39mfor\u001b[39;00m datapoint \u001b[39min\u001b[39;00m \u001b[39mzip\u001b[39m((prepared1_dir \u001b[39m/\u001b[39m \u001b[39m\"\u001b[39m\u001b[39mInputs\u001b[39m\u001b[39m\"\u001b[39m)\u001b[39m.\u001b[39miterdir(), (prepared1_dir \u001b[39m/\u001b[39m \u001b[39m\"\u001b[39m\u001b[39mLabels\u001b[39m\u001b[39m\"\u001b[39m)\u001b[39m.\u001b[39miterdir()):\n\u001b[1;32m     22\u001b[0m     \u001b[39minput\u001b[39m \u001b[39m=\u001b[39m torch\u001b[39m.\u001b[39mload(datapoint[\u001b[39m0\u001b[39m])\n",
                        "File \u001b[0;32m/usr/lib/python3.8/shutil.py:418\u001b[0m, in \u001b[0;36mcopy\u001b[0;34m(src, dst, follow_symlinks)\u001b[0m\n\u001b[1;32m    416\u001b[0m \u001b[39mif\u001b[39;00m os\u001b[39m.\u001b[39mpath\u001b[39m.\u001b[39misdir(dst):\n\u001b[1;32m    417\u001b[0m     dst \u001b[39m=\u001b[39m os\u001b[39m.\u001b[39mpath\u001b[39m.\u001b[39mjoin(dst, os\u001b[39m.\u001b[39mpath\u001b[39m.\u001b[39mbasename(src))\n\u001b[0;32m--> 418\u001b[0m copyfile(src, dst, follow_symlinks\u001b[39m=\u001b[39;49mfollow_symlinks)\n\u001b[1;32m    419\u001b[0m copymode(src, dst, follow_symlinks\u001b[39m=\u001b[39mfollow_symlinks)\n\u001b[1;32m    420\u001b[0m \u001b[39mreturn\u001b[39;00m dst\n",
                        "File \u001b[0;32m/usr/lib/python3.8/shutil.py:264\u001b[0m, in \u001b[0;36mcopyfile\u001b[0;34m(src, dst, follow_symlinks)\u001b[0m\n\u001b[1;32m    262\u001b[0m     os\u001b[39m.\u001b[39msymlink(os\u001b[39m.\u001b[39mreadlink(src), dst)\n\u001b[1;32m    263\u001b[0m \u001b[39melse\u001b[39;00m:\n\u001b[0;32m--> 264\u001b[0m     \u001b[39mwith\u001b[39;00m \u001b[39mopen\u001b[39;49m(src, \u001b[39m'\u001b[39;49m\u001b[39mrb\u001b[39;49m\u001b[39m'\u001b[39;49m) \u001b[39mas\u001b[39;00m fsrc, \u001b[39mopen\u001b[39m(dst, \u001b[39m'\u001b[39m\u001b[39mwb\u001b[39m\u001b[39m'\u001b[39m) \u001b[39mas\u001b[39;00m fdst:\n\u001b[1;32m    265\u001b[0m         \u001b[39m# macOS\u001b[39;00m\n\u001b[1;32m    266\u001b[0m         \u001b[39mif\u001b[39;00m _HAS_FCOPYFILE:\n\u001b[1;32m    267\u001b[0m             \u001b[39mtry\u001b[39;00m:\n",
                        "\u001b[0;31mFileNotFoundError\u001b[0m: [Errno 2] No such file or directory: '/home/pelzerja/pelzerja/test_nn/datasets_prepared/1hp_boxes/dataset_medium_k_3e-10_1000dp inputs gksi/info.yaml'"
                    ]
                }
            ],
            "source": [
                "dataset_prep = \"dataset_medium_k_3e-10_1000dp inputs gksi\" #dataset_small_long_1hp_100dp_interim inputs_gksi\n",
                "number_boxes = 16\n",
                "with open(\"paths.yaml\", \"r\") as paths:\n",
                "\tpaths = yaml.safe_load(paths)\n",
                "\tprepared1_dir = Path(paths[\"datasets_prepared_dir\"]) / dataset_prep\n",
                "\tprepared_pieces_dir = Path(paths[\"datasets_prepared_dir\"]) / f\"{dataset_prep} cut_{number_boxes}pieces separate_boxes\"\n",
                "\tprepared_pieces_dir.mkdir(parents=True, exist_ok=True)\n",
                "cut_dataset_in_pieces(number_boxes, prepared1_dir, prepared_pieces_dir)\n",
                "# not required for testing:\n",
                "# prepare_dataset_for_2levels(dataset_name, number_boxes, \"t\", paths, prepared1_dir, prepared_pieces_dir)"
            ]
        },
        {
            "cell_type": "code",
            "execution_count": null,
            "metadata": {},
            "outputs": [],
            "source": [
                "for id in range(5):\n",
                "    pipeline(id, \"test_cut_pieces_pipeline small_long\", \"t\", nr_boxes_orig=number_boxes)"
            ]
        },
        {
            "cell_type": "code",
            "execution_count": null,
            "metadata": {},
            "outputs": [],
            "source": []
        }
    ],
    "metadata": {
        "kernelspec": {
            "display_name": "Python 3",
            "language": "python",
            "name": "python3"
        },
        "language_info": {
            "codemirror_mode": {
                "name": "ipython",
                "version": 3
            },
            "file_extension": ".py",
            "mimetype": "text/x-python",
            "name": "python",
            "nbconvert_exporter": "python",
            "pygments_lexer": "ipython3",
            "version": "3.10.12"
        }
    },
    "nbformat": 4,
    "nbformat_minor": 2
}