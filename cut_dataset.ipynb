{
 "cells": [
  {
   "cell_type": "code",
   "execution_count": 14,
   "metadata": {},
   "outputs": [],
   "source": [
    "from copy import deepcopy\n",
    "import yaml\n",
    "from pathlib import Path\n",
    "import torch\n",
    "import shutil\n",
    "import matplotlib.pyplot as plt\n",
    "\n",
    "%reload_ext autoreload\n",
    "%autoreload 2"
   ]
  },
  {
   "cell_type": "markdown",
   "metadata": {},
   "source": [
    "# Cut boxes"
   ]
  },
  {
   "cell_type": "code",
   "execution_count": 24,
   "metadata": {},
   "outputs": [],
   "source": [
    "dataset_name = \"benchmark_dataset_2d_100datapoints inputs_pksi\"\n",
    "with open(\"paths.yaml\", \"r\") as paths:\n",
    "    paths = yaml.safe_load(paths)\n",
    "    prepared1_dir = Path(paths[\"datasets_prepared_dir\"]) / dataset_name"
   ]
  },
  {
   "cell_type": "markdown",
   "metadata": {},
   "source": [
    "## Cut dataset into x boxes"
   ]
  },
  {
   "cell_type": "code",
   "execution_count": 32,
   "metadata": {},
   "outputs": [],
   "source": [
    "number_boxes = 16\n",
    "number_datapoints = 2\n",
    "prepared_pieces_dir = Path(paths[\"datasets_prepared_dir\"]) / f\"{dataset_name} cut_{number_boxes}pieces separate_boxes\"\n",
    "prepared_pieces_dir.mkdir(parents=True, exist_ok=True)\n",
    "for box in range(number_boxes):\n",
    "    (prepared_pieces_dir / f\"Inputs Box {box}\").mkdir(parents=True, exist_ok=True)\n",
    "    (prepared_pieces_dir / f\"Label Box {box}\").mkdir(parents=True, exist_ok=True)\n",
    "shutil.copy(prepared1_dir / \"info.yaml\", prepared_pieces_dir / \"info.yaml\")\n",
    "\n",
    "j = 0\n",
    "for datapoint in zip((prepared1_dir / \"Inputs\").iterdir(), (prepared1_dir / \"Labels\").iterdir()):\n",
    "    input = torch.load(datapoint[0])\n",
    "    label = torch.load(datapoint[1])\n",
    "    name = datapoint[0].stem\n",
    "\n",
    "    input_boxes = []\n",
    "    label_boxes = []\n",
    "    for i in range(number_boxes):\n",
    "        len_box = input.shape[1] // number_boxes\n",
    "        input_boxes.append(input[:, i * len_box : (i + 1) * len_box, :])\n",
    "        label_boxes.append(label[:, i * len_box : (i + 1) * len_box, :])\n",
    "\n",
    "\n",
    "    for i in range(number_boxes):\n",
    "        torch.save(input_boxes[i], prepared_pieces_dir / f\"Inputs Box {i}\" / f\"{name}.pt\",)\n",
    "        torch.save(label_boxes[i], prepared_pieces_dir / f\"Label Box {i}\" / f\"{name}.pt\",)\n",
    "    \n",
    "    j+=1\n",
    "    if j == number_datapoints:\n",
    "        break"
   ]
  },
  {
   "cell_type": "markdown",
   "metadata": {},
   "source": [
    "## Store boxes for 2 levels in 2 datasets"
   ]
  },
  {
   "cell_type": "code",
   "execution_count": 33,
   "metadata": {},
   "outputs": [
    {
     "data": {
      "text/plain": [
       "PosixPath('/home/pillerls/heat-plume/datasets/prepared/benchmark_dataset_2d_100datapoints inputs_pksi cut_16pieces separate_boxes 1st level/Labels')"
      ]
     },
     "execution_count": 33,
     "metadata": {},
     "output_type": "execute_result"
    }
   ],
   "source": [
    "# prepare 1st level\n",
    "prepared_dir_1stlevel = Path(paths[\"datasets_prepared_dir\"]) / f\"{dataset_name} cut_{number_boxes}pieces separate_boxes 1st level\"\n",
    "prepared_dir_1stlevel.mkdir(parents=True, exist_ok=True)\n",
    "\n",
    "shutil.copy(prepared_pieces_dir / \"info.yaml\", prepared_dir_1stlevel / \"info.yaml\")\n",
    "shutil.copytree(prepared_pieces_dir / \"Inputs Box 0\", prepared_dir_1stlevel / \"Inputs\")\n",
    "shutil.copytree(prepared_pieces_dir / \"Label Box 0\", prepared_dir_1stlevel / \"Labels\")"
   ]
  },
  {
   "cell_type": "code",
   "execution_count": 35,
   "metadata": {},
   "outputs": [
    {
     "name": "stdout",
     "output_type": "stream",
     "text": [
      "{'Liquid Pressure [Pa]': {'index': 1, 'max': 914955.125, 'mean': 895024.375, 'min': 866588.4375, 'norm': 'Rescale', 'std': 4318.6884765625}, 'Permeability X [m^2]': {'index': 2, 'max': 4.370007467002779e-09, 'mean': 6.180664313681916e-10, 'min': 1.0262329180887875e-11, 'norm': 'Rescale', 'std': 9.46576039773106e-10}, 'Temperature [C]': {'index': 0, 'max': 15.600923538208008, 'mean': 11.38478946685791, 'min': 10.60000228881836, 'norm': 'Rescale', 'std': 1.178992509841919}}\n"
     ]
    }
   ],
   "source": [
    "# prepare 2nd level\n",
    "prepared_dir_2ndlevel = Path(paths[\"datasets_prepared_dir\"]) / f\"{dataset_name} cut_{number_boxes}pieces separate_boxes 2nd level gkt\"\n",
    "prepared_dir_2ndlevel.mkdir(parents=True, exist_ok=True)\n",
    "(prepared_dir_2ndlevel / \"Inputs\").mkdir(parents=True, exist_ok=True)\n",
    "(prepared_dir_2ndlevel / \"Labels\").mkdir(parents=True, exist_ok=True)\n",
    "\n",
    "info = yaml.safe_load(open(prepared_dir_1stlevel / \"info.yaml\", \"r\"))\n",
    "info_p    = deepcopy(info[\"Labels\"][\"Liquid Pressure [Pa]\"])\n",
    "info_k    = deepcopy(info[\"Inputs\"][\"Permeability X [m^2]\"])\n",
    "info_T    = deepcopy(info[\"Labels\"][\"Temperature [C]\"])\n",
    "info[\"Inputs\"][\"Temperature [C]\"] = info_T\n",
    "info[\"Inputs\"][\"Liquid Pressure [Pa]\"] = info_p\n",
    "info[\"Inputs\"][\"Permeability X [m^2]\"] = info_k\n",
    "info[\"Inputs\"][\"Permeability X [m^2]\"][\"index\"] = 2\n",
    "info[\"Inputs\"][\"Liquid Pressure [Pa]\"][\"index\"] = 1\n",
    "info[\"Inputs\"][\"Temperature [C]\"][\"index\"] = 0\n",
    "# assert indices of inputs double\n",
    "idx_p = info[\"Inputs\"][\"Liquid Pressure [Pa]\"][\"index\"]\n",
    "idx_k = info[\"Inputs\"][\"Permeability X [m^2]\"][\"index\"]\n",
    "idx_t = info[\"Inputs\"][\"Temperature [C]\"][\"index\"]\n",
    "assert  idx_p != idx_k, \"indices of inputs double\"\n",
    "assert  idx_p != idx_t, \"indices of inputs double\"\n",
    "assert  idx_k != idx_t, \"indices of inputs double\"\n",
    "info[\"Inputs\"].pop(\"Material ID\")\n",
    "info[\"Inputs\"].pop(\"SDF\")\n",
    "info[\"Labels\"].pop(\"Liquid Pressure [Pa]\")\n",
    "print(info[\"Inputs\"])\n",
    "\n",
    "yaml.safe_dump(info, open(prepared_dir_2ndlevel / \"info.yaml\", \"w\"))\n",
    "\n",
    "for box in range(2, number_boxes-2):\n",
    "    for file_in_temp in (prepared_pieces_dir / f\"Label Box {box}\").iterdir():\n",
    "        file_id = int(file_in_temp.stem.split(\"_\")[1])\n",
    "        new_id = file_id + (box) * 1000\n",
    "        temp_in = torch.load(file_in_temp)[0]\n",
    "        file_inputs = prepared_pieces_dir / f\"Inputs Box {box}\" / f\"RUN_{file_id}.pt\"\n",
    "        file_label = prepared_pieces_dir / f\"Label Box {box+1}\" / f\"RUN_{file_id}.pt\"\n",
    "        p_in = torch.load(file_label)[1]\n",
    "        k_in = torch.load(file_inputs)[1]\n",
    "        inputs = torch.zeros([3, *p_in.shape])\n",
    "        inputs[idx_p] = p_in\n",
    "        inputs[idx_k] = k_in\n",
    "        inputs[idx_t] = temp_in[-1:,:].repeat(16, 1)\n",
    "        \n",
    "        torch.save(inputs, prepared_dir_2ndlevel / \"Inputs\" / f\"RUN_{new_id}.pt\")\n",
    "\n",
    "        outputs = torch.zeros([1, *p_in.shape])\n",
    "        outputs[0] = torch.load(file_label)[0]\n",
    "        torch.save(outputs, prepared_dir_2ndlevel / \"Labels\" / f\"RUN_{new_id}.pt\")\n",
    "\n",
    "        #print(inputs.shape, outputs.shape)"
   ]
  }
 ],
 "metadata": {
  "kernelspec": {
   "display_name": "Python 3",
   "language": "python",
   "name": "python3"
  },
  "language_info": {
   "codemirror_mode": {
    "name": "ipython",
    "version": 3
   },
   "file_extension": ".py",
   "mimetype": "text/x-python",
   "name": "python",
   "nbconvert_exporter": "python",
   "pygments_lexer": "ipython3",
   "version": "3.8.10"
  }
 },
 "nbformat": 4,
 "nbformat_minor": 2
}
