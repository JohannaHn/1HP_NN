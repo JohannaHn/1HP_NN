{
 "cells": [
  {
   "cell_type": "code",
   "execution_count": 1,
   "metadata": {},
   "outputs": [],
   "source": [
    "from copy import deepcopy\n",
    "import yaml\n",
    "from pathlib import Path\n",
    "import torch\n",
    "import shutil\n",
    "import matplotlib.pyplot as plt\n",
    "\n",
    "%reload_ext autoreload\n",
    "%autoreload 2"
   ]
  },
  {
   "cell_type": "markdown",
   "metadata": {},
   "source": [
    "# Cut boxes"
   ]
  },
  {
   "cell_type": "code",
   "execution_count": 2,
   "metadata": {},
   "outputs": [],
   "source": [
    "dataset_name = \"dataset_2d_small_100dp inputs_gksi\"\n",
    "with open(\"paths.yaml\", \"r\") as paths:\n",
    "    paths = yaml.safe_load(paths)\n",
    "    prepared1_dir = Path(paths[\"datasets_prepared_dir\"]) / dataset_name"
   ]
  },
  {
   "cell_type": "markdown",
   "metadata": {},
   "source": [
    "## Cut dataset into x boxes"
   ]
  },
  {
   "cell_type": "code",
   "execution_count": 5,
   "metadata": {},
   "outputs": [],
   "source": [
    "number_boxes = 4\n",
    "prepared_pieces_dir = Path(paths[\"datasets_prepared_dir\"]) / f\"{dataset_name} cut_{number_boxes}pieces separate_boxes\"\n",
    "prepared_pieces_dir.mkdir(parents=True, exist_ok=True)\n",
    "for box in range(number_boxes):\n",
    "    (prepared_pieces_dir / f\"Inputs Box {box}\").mkdir(parents=True, exist_ok=True)\n",
    "    (prepared_pieces_dir / f\"Label Box {box}\").mkdir(parents=True, exist_ok=True)\n",
    "shutil.copy(prepared1_dir / \"info.yaml\", prepared_pieces_dir / \"info.yaml\")\n",
    "\n",
    "for datapoint in zip((prepared1_dir / \"Inputs\").iterdir(), (prepared1_dir / \"Labels\").iterdir()):\n",
    "    input = torch.load(datapoint[0])\n",
    "    label = torch.load(datapoint[1])\n",
    "    name = datapoint[0].stem\n",
    "\n",
    "    input_boxes = []\n",
    "    label_boxes = []\n",
    "    for i in range(number_boxes):\n",
    "        len_box = input.shape[1] // number_boxes\n",
    "        input_boxes.append(input[:, i * len_box : (i + 1) * len_box, :])\n",
    "        label_boxes.append(label[:, i * len_box : (i + 1) * len_box, :])\n",
    "\n",
    "\n",
    "    for i in range(number_boxes):\n",
    "        torch.save(input_boxes[i], prepared_pieces_dir / f\"Inputs Box {i}\" / f\"{name}.pt\",)\n",
    "        torch.save(label_boxes[i], prepared_pieces_dir / f\"Label Box {i}\" / f\"{name}.pt\",)"
   ]
  },
  {
   "cell_type": "markdown",
   "metadata": {},
   "source": [
    "## Store boxes for 2 levels in 2 datasets"
   ]
  },
  {
   "cell_type": "code",
   "execution_count": 12,
   "metadata": {},
   "outputs": [],
   "source": [
    "# prepare 1st level\n",
    "prepared_dir_1stlevel = Path(paths[\"datasets_prepared_dir\"]) / f\"{dataset_name} cut_{number_boxes}pieces separate_boxes 1st level\"\n",
    "prepared_dir_1stlevel.mkdir(parents=True, exist_ok=True)\n",
    "\n",
    "shutil.copy(prepared_pieces_dir / \"info.yaml\", prepared_dir_1stlevel / \"info.yaml\")\n",
    "shutil.copytree(prepared_pieces_dir / \"Inputs Box 0\", prepared_dir_1stlevel / \"Inputs\")\n",
    "shutil.copytree(prepared_pieces_dir / \"Label Box 0\", prepared_dir_1stlevel / \"Labels\")"
   ]
  },
  {
   "cell_type": "code",
   "execution_count": 30,
   "metadata": {},
   "outputs": [],
   "source": [
    "# prepare 2nd level\n",
    "prepared_dir_2ndlevel = Path(paths[\"datasets_prepared_dir\"]) / f\"{dataset_name} cut_{number_boxes}pieces separate_boxes 2nd level gkt\"\n",
    "prepared_dir_2ndlevel.mkdir(parents=True, exist_ok=True)\n",
    "(prepared_dir_2ndlevel / \"Inputs\").mkdir(parents=True, exist_ok=True)\n",
    "(prepared_dir_2ndlevel / \"Labels\").mkdir(parents=True, exist_ok=True)\n",
    "\n",
    "info = yaml.safe_load(open(prepared_dir_1stlevel / \"info.yaml\", \"r\"))\n",
    "info_g    = deepcopy(info[\"Inputs\"][\"Pressure Gradient [-]\"])\n",
    "info_k    = deepcopy(info[\"Inputs\"][\"Permeability X [m^2]\"])\n",
    "info[\"Inputs\"] = deepcopy(info[\"Labels\"])\n",
    "info[\"Inputs\"][\"Pressure Gradient [-]\"] = info_g\n",
    "info[\"Inputs\"][\"Permeability X [m^2]\"] = info_k\n",
    "info[\"Inputs\"][\"Temperature [C]\"][\"index\"] = 2\n",
    "# assert indices of inputs double\n",
    "idx_g = info[\"Inputs\"][\"Pressure Gradient [-]\"][\"index\"]\n",
    "idx_k = info[\"Inputs\"][\"Permeability X [m^2]\"][\"index\"]\n",
    "idx_t = info[\"Inputs\"][\"Temperature [C]\"][\"index\"]\n",
    "assert  idx_g != idx_k, \"indices of inputs double\"\n",
    "assert  idx_g != idx_t, \"indices of inputs double\"\n",
    "assert  idx_k != idx_t, \"indices of inputs double\"\n",
    "\n",
    "yaml.safe_dump(info, open(prepared_dir_2ndlevel / \"info.yaml\", \"w\"))\n",
    "\n",
    "for box in range(number_boxes-1):\n",
    "    for file_in_temp in (prepared_pieces_dir / f\"Label Box {box}\").iterdir():\n",
    "        file_id = int(file_in_temp.stem.split(\"_\")[1])\n",
    "        new_id = file_id + (box) * 1000\n",
    "        temp_in = torch.load(file_in_temp)\n",
    "        file_inputs = prepared_pieces_dir / f\"Inputs Box {box}\" / f\"RUN_{file_id}.pt\"\n",
    "        g_in = torch.load(file_inputs)[idx_g]\n",
    "        k_in = torch.load(file_inputs)[idx_k]\n",
    "        inputs = torch.zeros([3, *g_in.shape])\n",
    "        inputs[idx_g] = g_in\n",
    "        inputs[idx_k] = k_in\n",
    "        inputs[idx_t] = temp_in\n",
    "        \n",
    "        torch.save(inputs, prepared_dir_2ndlevel / \"Inputs\" / f\"RUN_{new_id}.pt\")\n",
    "\n",
    "        file_label = prepared_pieces_dir / f\"Label Box {box+1}\" / f\"RUN_{file_id}.pt\"\n",
    "        shutil.copy(file_label, prepared_dir_2ndlevel / \"Labels\" / f\"RUN_{new_id}.pt\")"
   ]
  }
 ],
 "metadata": {
  "kernelspec": {
   "display_name": "Python 3",
   "language": "python",
   "name": "python3"
  },
  "language_info": {
   "codemirror_mode": {
    "name": "ipython",
    "version": 3
   },
   "file_extension": ".py",
   "mimetype": "text/x-python",
   "name": "python",
   "nbconvert_exporter": "python",
   "pygments_lexer": "ipython3",
   "version": "3.8.10"
  }
 },
 "nbformat": 4,
 "nbformat_minor": 2
}
