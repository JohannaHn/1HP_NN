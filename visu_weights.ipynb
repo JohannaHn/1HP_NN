{
 "cells": [
  {
   "cell_type": "code",
   "execution_count": null,
   "metadata": {},
   "outputs": [],
   "source": [
    "import numpy as np\n",
    "import torch\n",
    "import matplotlib.pyplot as plt\n",
    "from pathlib import Path\n",
    "from networks.unet import UNet\n",
    "from utils.visualization import _aligned_colorbar\n",
    "\n",
    "%reload_ext autoreload\n",
    "%autoreload 2"
   ]
  },
  {
   "cell_type": "code",
   "execution_count": null,
   "metadata": {},
   "outputs": [],
   "source": [
    "model = UNet(in_channels=3)\n",
    "model.load(Path(\"runs/1hpnn/model_padding_circular_manual_inputs_gks\"))\n",
    "datapoint = torch.load(\"/home/pelzerja/Development/datasets_prepared/1hp_boxes/dataset_2d_small_100dp inputs_gks/Inputs/RUN_0.pt\")\n",
    "datapoint = datapoint.unsqueeze(dim=0)\n"
   ]
  },
  {
   "cell_type": "code",
   "execution_count": null,
   "metadata": {},
   "outputs": [],
   "source": [
    "output = model(datapoint).detach().numpy()\n",
    "plt.imshow(output[0,0].T)"
   ]
  },
  {
   "cell_type": "code",
   "execution_count": null,
   "metadata": {},
   "outputs": [],
   "source": [
    "print(model.__dict__.keys())\n",
    "print(model.__dict__[\"_modules\"].keys())\n",
    "encoders = model.__dict__[\"_modules\"][\"encoders\"]\n",
    "pools = model.__dict__[\"_modules\"][\"pools\"]\n",
    "upconvs = model.__dict__[\"_modules\"][\"upconvs\"]\n",
    "decoders = model.__dict__[\"_modules\"][\"decoders\"]\n",
    "conv = model.__dict__[\"_modules\"][\"conv\"]\n"
   ]
  },
  {
   "cell_type": "code",
   "execution_count": null,
   "metadata": {},
   "outputs": [],
   "source": [
    "def plot_pushed_data(data):\n",
    "    data = data.detach().numpy()[0]\n",
    "    num_subplots = 5\n",
    "    plt.subplots(num_subplots,1, figsize=(20,10))\n",
    "    for i in range(num_subplots):\n",
    "        plt.subplot(num_subplots,1, i+1)\n",
    "        plt.imshow(data[i].T)\n",
    "        _aligned_colorbar()"
   ]
  },
  {
   "cell_type": "code",
   "execution_count": null,
   "metadata": {},
   "outputs": [],
   "source": [
    "dp_push = datapoint\n",
    "encodings = []\n",
    "for i in range(len(pools)):\n",
    "    dp_push = encoders[i](dp_push).detach()\n",
    "    encodings.append(dp_push)\n",
    "    plot_pushed_data(dp_push)\n",
    "    dp_push = pools[i](dp_push)\n",
    "dp_push = encoders[-1](dp_push)\n",
    "plot_pushed_data(dp_push)\n",
    "\n",
    "for upconv, decoder, encoding in zip(upconvs, decoders, reversed(encodings)):\n",
    "    dp_push = upconv(dp_push)\n",
    "    dp_push = torch.cat((dp_push, encoding), dim=1)\n",
    "    dp_push = decoder(dp_push)\n",
    "    plot_pushed_data(dp_push)\n",
    "\n",
    "dp_conv = conv(dp_push)\n",
    "plot_pushed_data(dp_push)"
   ]
  },
  {
   "cell_type": "code",
   "execution_count": null,
   "metadata": {},
   "outputs": [],
   "source": []
  }
 ],
 "metadata": {
  "kernelspec": {
   "display_name": "Python 3",
   "language": "python",
   "name": "python3"
  },
  "language_info": {
   "codemirror_mode": {
    "name": "ipython",
    "version": 3
   },
   "file_extension": ".py",
   "mimetype": "text/x-python",
   "name": "python",
   "nbconvert_exporter": "python",
   "pygments_lexer": "ipython3",
   "version": "3.10.12"
  }
 },
 "nbformat": 4,
 "nbformat_minor": 2
}
