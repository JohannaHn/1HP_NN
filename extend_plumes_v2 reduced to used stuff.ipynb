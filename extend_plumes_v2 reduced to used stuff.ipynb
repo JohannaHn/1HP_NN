{
 "cells": [
  {
   "cell_type": "code",
   "execution_count": null,
   "metadata": {},
   "outputs": [],
   "source": [
    "from pathlib import Path\n",
    "from extend_plumes import *"
   ]
  },
  {
   "cell_type": "code",
   "execution_count": null,
   "metadata": {},
   "outputs": [],
   "source": [
    "%reload_ext autoreload\n",
    "%autoreload 2"
   ]
  },
  {
   "cell_type": "code",
   "execution_count": null,
   "metadata": {},
   "outputs": [],
   "source": [
    "# !python3 main.py --device cuda:0 --inputs gk --problem extend2 --visu True --epochs 0 --dataset_raw dataset_long_k_3e-10_1dp --notes \"tmp\" --destination tmp --case test --model \"TESTS_inputs box128 skip64/dataset_medium_k_3e-10_1000dp inputs_gk case_train box128 skip64\"\n",
    "# !python3 main.py --device cuda:0 --inputs gksi --problem extend1 --visu True --epochs 0 --dataset_raw dataset_medium-1dp --notes \"tmp\" --destination tmp --case test --model \"dataset_medium_k_3e-10_1000dp inputs_gksi case_train box256 skip0\"\n",
    "\n",
    "!python3 main.py --device cuda:0 --inputs gksi --problem extend1 --epochs 0 --dataset_raw dataset_long_k_3e-10_1dp --notes \"tmp\" --destination tmp --case test --model \"dataset_medium_64_256_gksi_1000dp_for_lukas\" # change name afterwards to \"extend1\"\n",
    "# !python3 main.py --device cuda:0 --inputs gk --problem extend2 --epochs 0 --dataset_raw dataset_long_k_3e-10_1dp --notes \"tmp\" --destination tmp --case test --model \"TESTS_inputs box128 skip64/dataset_medium_k_3e-10_1000dp inputs_gk case_train box128 skip64 noFirstBox\" # change name afterwards to \"extend2\""
   ]
  },
  {
   "cell_type": "code",
   "execution_count": null,
   "metadata": {},
   "outputs": [],
   "source": [
    "# Parameters\n",
    "params = {  \"colorargs\" : {\"cmap\": \"RdBu_r\"}, #\"vmin\":0,\"vmax\":1, \n",
    "            \"start_visu\" : 0,\n",
    "            \"end_visu\" : 1000,\n",
    "            \"start_input_box\" : 0, #64,\n",
    "            \"skip_in_field\" : 64, #32,\n",
    "            \"rm_boundary_l\" : 16,\n",
    "            \"rm_boundary_r\" : int(16/2),}\n",
    "\n",
    "dataset_prep = Path(\"/scratch/sgs/pelzerja/datasets_prepared/extend_plumes/dataset_long_k_3e-10_1dp inputs_gk extend2\") #dataset_medium_k_3e-10_1000dp inputs_gksi reduce2pow2\")\n",
    "# model_path = Path(\"/home/pelzerja/pelzerja/test_nn/1HP_NN/runs/extend_plumes2/TESTS_inputs box128 skip64/dataset_medium_k_3e-10_1000dp inputs_gk case_train box128 skip64\")\n",
    "                #   TEST_box_skip inputs_gksi/dataset_medium_k_3e-10_1000dp inputs_gksi case_train box256 skip2\")\n",
    "model_path_nfb = Path(\"/home/pelzerja/pelzerja/test_nn/1HP_NN/runs/extend_plumes2/TESTS_inputs box128 skip64/dataset_medium_k_3e-10_1000dp inputs_gk case_train box128 skip64 noFirstBox e500 2ndRound\")\n",
    "# model_path_nfb = Path(\"/home/pelzerja/pelzerja/test_nn/1HP_NN/runs/extend_plumes2/best_setting_so_far\")\n",
    "\n",
    "# model_front_path = Path(\"/home/pelzerja/pelzerja/test_nn/1HP_NN/runs/extend_plumes1/dataset_medium_k_3e-10_1000dp inputs_gksi case_train box256 skip0\")\n",
    "model_front_path = Path(\"/home/pelzerja/pelzerja/test_nn/1HP_NN/runs/extend_plumes1/dataset_medium_64_256_gksi_1000dp_for_lukas\")\n",
    "dataset_front = Path(\"/scratch/sgs/pelzerja/datasets_prepared/extend_plumes/dataset_long_k_3e-10_1dp inputs_gksi extend1\")"
   ]
  },
  {
   "cell_type": "code",
   "execution_count": null,
   "metadata": {},
   "outputs": [],
   "source": [
    "for run_id in [0, 11, 10]:\n",
    "    for front_bool in [False, True]:\n",
    "        print(\"run id\", run_id, \"front\", front_bool)\n",
    "        model, model_front, inputs, labels, inputs_front, params = load_model_and_data(model_path_nfb, model_front_path, dataset_prep, dataset_front, params, run_id=run_id, visu=False)\n",
    "\n",
    "        if front_bool:\n",
    "            front=[model_front, inputs_front]\n",
    "        else:\n",
    "            front=None\n",
    "        output_all = infer(model, inputs, labels, params, first_box=False, visu=False, front=front)\n",
    "        visu_rescaled_dp(output_all, labels, params) #, plot_name=f\"../../../extend_plumes/model_2ndRound_run{run_id}_front{front_bool}_withVisuFirstBox\")"
   ]
  },
  {
   "cell_type": "markdown",
   "metadata": {},
   "source": [
    "# TODO test only T as input"
   ]
  },
  {
   "cell_type": "code",
   "execution_count": null,
   "metadata": {},
   "outputs": [],
   "source": [
    "model_path_nfb = Path(\"/home/pelzerja/pelzerja/test_nn/1HP_NN/runs/extend_plumes2/TESTS_inputs box128 skip64/test only T input box128 skip64\")\n",
    "model_front_path = Path(\"/home/pelzerja/pelzerja/test_nn/1HP_NN/runs/extend_plumes1/dataset_medium_64_256_gksi_1000dp_for_lukas\")\n",
    "dataset_prep =  Path(\"/scratch/sgs/pelzerja/datasets_prepared/extend_plumes/dataset_long_k_3e-10_1dp inputs_ extend2\")\n",
    "dataset_front = Path(\"/scratch/sgs/pelzerja/datasets_prepared/extend_plumes/dataset_long_k_3e-10_1dp inputs_gksi extend1\")\n",
    "\n",
    "model, model_front, inputs, labels, inputs_front, temp_norm = load_model_and_data(model_path_nfb, model_front_path, dataset_prep, dataset_front, run_id=4, visu=True)\n",
    "output_all = infer(model, inputs, labels, start_input_box, skip_in_field, box_size, rm_boundary_l=rm_boundary, rm_boundary_r=int(rm_boundary/2), skip_per_dir=skip_per_dir, first_box=False, colorargs=colorargs, visu=False, front=[model_front, inputs_front])\n",
    "visu_rescaled_dp(output_all, labels, temp_norm)"
   ]
  },
  {
   "cell_type": "code",
   "execution_count": null,
   "metadata": {},
   "outputs": [],
   "source": [
    "# validation auch auf hinteren Teilen?\n",
    "# different sizes of input?\n",
    "# leaky relu im letzten Layer?\n",
    "# specifically test extrapolation"
   ]
  }
 ],
 "metadata": {
  "kernelspec": {
   "display_name": "Python 3",
   "language": "python",
   "name": "python3"
  },
  "language_info": {
   "codemirror_mode": {
    "name": "ipython",
    "version": 3
   },
   "file_extension": ".py",
   "mimetype": "text/x-python",
   "name": "python",
   "nbconvert_exporter": "python",
   "pygments_lexer": "ipython3",
   "version": "3.10.4"
  }
 },
 "nbformat": 4,
 "nbformat_minor": 2
}
